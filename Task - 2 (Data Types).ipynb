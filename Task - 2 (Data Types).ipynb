{
 "cells": [
  {
   "cell_type": "markdown",
   "id": "3a92c7e7",
   "metadata": {},
   "source": [
    "## List Comprehensions\n",
    "\n",
    "Let's learn about list comprehensions! You are given three integers x,y and z representing the dimensions of a cuboid along with an integer n. Print a list of all possible coordinates given by (i,j,k) on a 3D grid where the sum of i+j+k is not equal to n. Here, 0<=i<=x; 0<=j<=y; 0<=k<=z . Please use list comprehensions rather than multiple loops, as a learning exercise."
   ]
  },
  {
   "cell_type": "code",
   "execution_count": 9,
   "id": "fb6c72ba",
   "metadata": {},
   "outputs": [
    {
     "name": "stdout",
     "output_type": "stream",
     "text": [
      "2\n",
      "2\n",
      "2\n",
      "2\n",
      "[[0, 0, 0], [0, 0, 1], [0, 1, 0], [0, 1, 2], [0, 2, 1], [0, 2, 2], [1, 0, 0], [1, 0, 2], [1, 1, 1], [1, 1, 2], [1, 2, 0], [1, 2, 1], [1, 2, 2], [2, 0, 1], [2, 0, 2], [2, 1, 0], [2, 1, 1], [2, 1, 2], [2, 2, 0], [2, 2, 1], [2, 2, 2]]\n"
     ]
    }
   ],
   "source": [
    "x = int(input())\n",
    "y = int(input())\n",
    "z = int(input())\n",
    "n = int(input())\n",
    "\n",
    "print([[i,j,k] for i in range(x+1) for j in range(y+1) for k in range(z+1) if sum([i,j,k]) !=n ])          "
   ]
  },
  {
   "cell_type": "code",
   "execution_count": null,
   "id": "fa5ed5e4",
   "metadata": {},
   "outputs": [],
   "source": []
  },
  {
   "cell_type": "markdown",
   "id": "d472bd17",
   "metadata": {},
   "source": [
    "## Find the Runner-Up Score!\n",
    "\n",
    "Given the participants' score sheet for your University Sports Day, you are required to find the runner-up score. You are given  scores. Store them in a list and find the score of the runner-up."
   ]
  },
  {
   "cell_type": "code",
   "execution_count": 32,
   "id": "e2f97e3c",
   "metadata": {},
   "outputs": [
    {
     "name": "stdout",
     "output_type": "stream",
     "text": [
      "5\n",
      "2 3 6 6 5\n",
      "5\n"
     ]
    }
   ],
   "source": [
    "n = int(input())\n",
    "arr = map(int, input().split())\n",
    "arr = sorted(arr,reverse=True)\n",
    "for i in range(len(arr)):\n",
    "    if arr[i] == arr[0]:\n",
    "        continue\n",
    "    else:\n",
    "        print(arr[i])\n",
    "        break"
   ]
  },
  {
   "cell_type": "code",
   "execution_count": null,
   "id": "147f9236",
   "metadata": {},
   "outputs": [],
   "source": []
  },
  {
   "cell_type": "markdown",
   "id": "dcdcdada",
   "metadata": {},
   "source": [
    "## Nested Lists\n",
    "\n",
    "Given the names and grades for each student in a class of N students, store them in a nested list and print the name(s) of any student(s) having the second lowest grade."
   ]
  },
  {
   "cell_type": "code",
   "execution_count": 10,
   "id": "f925edc4",
   "metadata": {},
   "outputs": [
    {
     "name": "stdout",
     "output_type": "stream",
     "text": [
      "5\n",
      "Harry\n",
      "37.21\n",
      "Berry\n",
      "37.21\n",
      "Tina\n",
      "37.2\n",
      "Akriti\n",
      "41\n",
      "Harsh\n",
      "39\n",
      "Berry\n",
      "Harry\n"
     ]
    }
   ],
   "source": [
    "student = []\n",
    "for _ in range(int(input())):\n",
    "    name = input()\n",
    "    score = float(input())\n",
    "    student.append([score,name])\n",
    "        \n",
    "    student.sort()  # Sort list in Ascending order\n",
    "    grade = student[0][0]  # Assign the first score to a list which will be the minimum\n",
    "        \n",
    "for i in range(1,len(student)): # Loop through the list by excluding first item in the list and find the second lowest\n",
    "    if grade < student[i][0]:\n",
    "        grade = student[i][0]\n",
    "        break\n",
    "    \n",
    "for i in range(1,len(student)): # Loop through the list and print names based on the second lowest score\n",
    "    if student[i][0] == grade:\n",
    "        print(student[i][1])"
   ]
  },
  {
   "cell_type": "code",
   "execution_count": null,
   "id": "e1451e8e",
   "metadata": {},
   "outputs": [],
   "source": []
  },
  {
   "cell_type": "markdown",
   "id": "5af6890c",
   "metadata": {},
   "source": [
    "## Finding the percentage\n",
    "\n",
    "The provided code stub will read in a dictionary containing key/value pairs of name:[marks] for a list of students. Print the average of the marks array for the student name provided, showing 2 places after the decimal."
   ]
  },
  {
   "cell_type": "code",
   "execution_count": 19,
   "id": "0011d584",
   "metadata": {},
   "outputs": [
    {
     "name": "stdout",
     "output_type": "stream",
     "text": [
      "2\n",
      "Harsh 25 26.5 28\n",
      "Kasyap 26 28 30\n",
      "Harsh\n",
      "26.50\n"
     ]
    }
   ],
   "source": [
    "n = int(input())\n",
    "student_marks = {}\n",
    "for _ in range(n):\n",
    "    line = input().split()\n",
    "    name, scores = line[0], line[1:]\n",
    "    scores = map(float, scores)\n",
    "    student_marks[name] = scores\n",
    "query_name = input()\n",
    "marks=0\n",
    "for i in student_marks[query_name]:\n",
    "    marks=marks+i\n",
    "avg=marks/3\n",
    "print(\"%.2f\"%avg)"
   ]
  },
  {
   "cell_type": "code",
   "execution_count": null,
   "id": "1872dacf",
   "metadata": {},
   "outputs": [],
   "source": []
  },
  {
   "cell_type": "markdown",
   "id": "7c1ba3ac",
   "metadata": {},
   "source": [
    "## Lists\n",
    "\n",
    "Consider a list (list = []). You can perform the following commands:\n",
    "\n",
    "1. insert i e: Insert integer e at position i.\n",
    "2. print: Print the list.\n",
    "3. remove e: Delete the first occurrence of integer e.\n",
    "4. append e: Insert integer e at the end of the list.\n",
    "5. sort: Sort the list.\n",
    "6. pop: Pop the last element from the list.\n",
    "7. reverse: Reverse the list.\n",
    "\n",
    "Initialize your list and read in the value of n followed by n lines of commands where each command will be of the 7 types listed above. Iterate through each command in order and perform the corresponding operation on your list."
   ]
  },
  {
   "cell_type": "code",
   "execution_count": 24,
   "id": "84132a2f",
   "metadata": {},
   "outputs": [
    {
     "name": "stdout",
     "output_type": "stream",
     "text": [
      "12\n",
      "insert 0 5\n",
      "insert 1 10\n",
      "insert 0 6\n",
      "print\n",
      "[6, 5, 10]\n",
      "remove 6\n",
      "append 9\n",
      "append 1\n",
      "sort\n",
      "print\n",
      "[1, 5, 9, 10]\n",
      "pop\n",
      "reverse\n",
      "print\n",
      "[9, 5, 1]\n"
     ]
    }
   ],
   "source": [
    "N = int(input())\n",
    "entire_lst = list()\n",
    "\n",
    "for _ in range(N):\n",
    "    query = input().split()\n",
    "    if query[0] == \"print\":\n",
    "        print(entire_lst)\n",
    "    elif query[0] == \"insert\":\n",
    "        entire_lst.insert(int(query[1]), int(query[2]))\n",
    "    elif query[0] == \"remove\":\n",
    "        entire_lst.remove(int(query[1]))\n",
    "    elif query[0] == \"append\":\n",
    "        entire_lst.append(int(query[1]))\n",
    "    elif query[0] == \"sort\":\n",
    "        entire_lst = sorted(entire_lst)\n",
    "    elif query[0] == \"pop\":\n",
    "        entire_lst.pop()\n",
    "    elif query[0] == \"reverse\":\n",
    "        entire_lst.reverse()"
   ]
  },
  {
   "cell_type": "code",
   "execution_count": null,
   "id": "6fd7d1f6",
   "metadata": {},
   "outputs": [],
   "source": []
  },
  {
   "cell_type": "markdown",
   "id": "98749b43",
   "metadata": {},
   "source": [
    "## Tuples\n",
    "\n",
    "### Task\n",
    "Given an integer, n , and n space-separated integers as input, create a tuple,t, of those n integers. Then compute and print the result of hash(t)."
   ]
  },
  {
   "cell_type": "code",
   "execution_count": 62,
   "id": "6bb03095",
   "metadata": {},
   "outputs": [
    {
     "name": "stdout",
     "output_type": "stream",
     "text": [
      "2\n",
      "1 2\n",
      "-3550055125485641917\n"
     ]
    }
   ],
   "source": [
    "n = int(input())\n",
    "integer_list = map(int, input().split())\n",
    "integer_list = tuple((integer_list))\n",
    "print(hash(integer_list))"
   ]
  },
  {
   "cell_type": "code",
   "execution_count": null,
   "id": "d6300adb",
   "metadata": {},
   "outputs": [],
   "source": []
  },
  {
   "cell_type": "markdown",
   "id": "83a43a1a",
   "metadata": {},
   "source": [
    "## Introduction to Sets\n",
    "\n",
    "### Task\n",
    "\n",
    "Now, let's use our knowledge of sets and help Mickey.<br>\n",
    "\n",
    "Ms. Gabriel Williams is a botany professor at District College. One day, she asked her student Mickey to compute the average of all the plants with distinct heights in her greenhouse."
   ]
  },
  {
   "cell_type": "code",
   "execution_count": 35,
   "id": "36eba52a",
   "metadata": {},
   "outputs": [
    {
     "name": "stdout",
     "output_type": "stream",
     "text": [
      "10\n",
      "161 182 161 154 176 170 167 171 170 174\n",
      "169.375\n"
     ]
    }
   ],
   "source": [
    "def average(array):\n",
    "    heights = set(array)\n",
    "    return sum(heights)/len(heights)\n",
    "\n",
    "if __name__ == '__main__':\n",
    "    n = int(input())\n",
    "    arr = map(int, input().split())\n",
    "    result = average(arr)\n",
    "    print(result)"
   ]
  },
  {
   "cell_type": "code",
   "execution_count": null,
   "id": "0aac256b",
   "metadata": {},
   "outputs": [],
   "source": []
  },
  {
   "cell_type": "markdown",
   "id": "73942327",
   "metadata": {},
   "source": [
    "## No Idea!\n",
    "\n",
    "There is an array of n integers. There are also 2 disjoint sets, A and B, each containing m integers. You like all the integers in set A and dislike all the integers in set B. Your initial happiness is o. For each i integer in the array, if i belons to A, you add 1 to your happiness. If i belong to B, you add -1 to your happiness. Otherwise, your happiness does not change. Output your final happiness at the end.<br>\n",
    "\n",
    "Note: Since A and B are sets, they have no repeated elements. However, the array might contain duplicate elements.<br>\n",
    "\n",
    "\n",
    "Constraints:\n",
    "   1.    1<=n<=10^5\n",
    "   2.    1<=m<=10^5\n",
    "   3.    1<=any integer in the input <=10^9"
   ]
  },
  {
   "cell_type": "code",
   "execution_count": 37,
   "id": "e7857dc5",
   "metadata": {},
   "outputs": [
    {
     "name": "stdout",
     "output_type": "stream",
     "text": [
      "3 2\n",
      "1 5 3\n",
      "3 1\n",
      "5 7\n",
      "1\n"
     ]
    }
   ],
   "source": [
    "n,m = list(map(int,input().split()))\n",
    "arr = list(map(int,input().split()))\n",
    "A = set(map(int,input().split()))\n",
    "B = set(map(int,input().split()))\n",
    "result=0\n",
    "for x in arr:\n",
    "    if x in A:\n",
    "        result+=1\n",
    "    elif x in B:\n",
    "        result-=1\n",
    "print(result)"
   ]
  },
  {
   "cell_type": "code",
   "execution_count": null,
   "id": "f0d785b3",
   "metadata": {},
   "outputs": [],
   "source": []
  },
  {
   "cell_type": "markdown",
   "id": "25919d59",
   "metadata": {},
   "source": [
    "## Symmetric Difference\n",
    "\n",
    "### Task:\n",
    "\n",
    "Given 2 sets of integers, M and N, print their symmetric difference in ascending order. The term symmetric difference indicates those values that exist in either M or N but do not exist in both.<br>\n",
    "\n",
    "Input Format:<br>\n",
    "\n",
    "The first line of input contains an integer, M.<br>\n",
    "The second line contains M space-separated integers.<br>\n",
    "The third line contains an integer, N.<br>\n",
    "The fourth line contains N space-separated integers."
   ]
  },
  {
   "cell_type": "code",
   "execution_count": 43,
   "id": "d05174b2",
   "metadata": {},
   "outputs": [
    {
     "name": "stdout",
     "output_type": "stream",
     "text": [
      "4\n",
      "2 4 5 9\n",
      "4 \n",
      "2 4 11 12\n",
      "5\n",
      "9\n",
      "11\n",
      "12\n"
     ]
    }
   ],
   "source": [
    "M = int(input())\n",
    "M_list = map(int,input().split(' '))\n",
    "N = int(input())\n",
    "N_list = map(int,input().split(' '))\n",
    "\n",
    "a  = set(M_list)\n",
    "b = set(N_list)\n",
    "\n",
    "tmp1 = a.difference(b)\n",
    "tmp2 = b.difference(a)\n",
    "result = tmp1.union(tmp2)\n",
    "finalresult = sorted(result)\n",
    "\n",
    "for ele in finalresult:\n",
    "    print(ele)"
   ]
  },
  {
   "cell_type": "code",
   "execution_count": null,
   "id": "298532a2",
   "metadata": {},
   "outputs": [],
   "source": []
  },
  {
   "cell_type": "markdown",
   "id": "721c149e",
   "metadata": {},
   "source": [
    "## Set .add()\n",
    "\n",
    "### Task:\n",
    "\n",
    "Apply your knowledge of the .add() operation to help your friend Rupal.\n",
    "\n",
    "Rupal has a huge collection of country stamps. She decided to count the total number of distinct country stamps in her collection. She asked for your help. You pick the stamps one by one from a stack of N country stamps.\n",
    "\n",
    "Find the total number of distinct country stamps."
   ]
  },
  {
   "cell_type": "code",
   "execution_count": 46,
   "id": "4bba9c7a",
   "metadata": {},
   "outputs": [
    {
     "name": "stdout",
     "output_type": "stream",
     "text": [
      "7\n",
      "UK\n",
      "USA\n",
      "UK\n",
      "France\n",
      "Aust\n",
      "UK\n",
      "India\n",
      "5\n"
     ]
    }
   ],
   "source": [
    "N = int(input())\n",
    "dict_set = set()\n",
    "\n",
    "for i in range((N)):\n",
    "    dict_set.add(input())\n",
    "\n",
    "print(len(dict_set))"
   ]
  },
  {
   "cell_type": "code",
   "execution_count": null,
   "id": "f20ddf39",
   "metadata": {},
   "outputs": [],
   "source": []
  },
  {
   "cell_type": "markdown",
   "id": "ef41d8ea",
   "metadata": {},
   "source": [
    "## Set .discard(), .remove() & .pop()\n",
    "\n",
    "### Task:\n",
    "You have a non-empty set s, and you have to execute N commands given in N lines.\n",
    "\n",
    "The commands will be pop, remove and discard."
   ]
  },
  {
   "cell_type": "code",
   "execution_count": 49,
   "id": "2a46b957",
   "metadata": {},
   "outputs": [
    {
     "name": "stdout",
     "output_type": "stream",
     "text": [
      "9\n",
      "1 2 3 4 5 6 7 8 9\n",
      "10\n",
      "pop\n",
      "remove 9\n",
      "discard 9\n",
      "discard 8\n",
      "remove 7\n",
      "pop\n",
      "discard 6\n",
      "remove 5\n",
      "pop\n",
      "discard 5\n",
      "4\n"
     ]
    }
   ],
   "source": [
    "n = int(input())\n",
    "s = set(map(int, input().split()))\n",
    "\n",
    "for i in range(int(input())):\n",
    "    query = input().split()\n",
    "    if query[0] == \"pop\":\n",
    "        s.pop()\n",
    "    elif query == \"remove\":\n",
    "        s.remove(int(query[1]))\n",
    "    else:\n",
    "        s.discard(int(query[1]))\n",
    "        \n",
    "print(sum(s))"
   ]
  },
  {
   "cell_type": "code",
   "execution_count": null,
   "id": "af3f5639",
   "metadata": {},
   "outputs": [],
   "source": []
  },
  {
   "cell_type": "markdown",
   "id": "7f4193e5",
   "metadata": {},
   "source": [
    "## Set .union() Operation\n",
    "\n",
    "## Task\n",
    "The students of District College have subscriptions to English and French newspapers. Some students have subscribed only to English, some have subscribed to only French and some have subscribed to both newspapers.<br>\n",
    "\n",
    "You are given two sets of student roll numbers. One set has subscribed to the English newspaper, and the other set is subscribed to the French newspaper. The same student could be in both sets. Your task is to find the total number of students who have subscribed to at least one newspaper.\n"
   ]
  },
  {
   "cell_type": "code",
   "execution_count": 63,
   "id": "866a4dd0",
   "metadata": {},
   "outputs": [
    {
     "name": "stdout",
     "output_type": "stream",
     "text": [
      "9\n",
      "1 2 3 4 5 6 7 8 9\n",
      "9\n",
      "10 1 2 3 11 21 55 6 8\n",
      "13\n"
     ]
    }
   ],
   "source": [
    "engpaper = int(input())\n",
    "engpaper_rollno = set(input().split())\n",
    "frenchpaper = int(input())\n",
    "frenchpaper_rollno = set(input().split())\n",
    "totalsubscription = len(engpaper_rollno.union(frenchpaper_rollno))\n",
    "print(totalsubscription)"
   ]
  },
  {
   "cell_type": "code",
   "execution_count": null,
   "id": "cd6457ad",
   "metadata": {},
   "outputs": [],
   "source": []
  },
  {
   "cell_type": "markdown",
   "id": "d8cfa131",
   "metadata": {},
   "source": [
    "## Set .intersection() Operation\n",
    "\n",
    "### Task\n",
    "The students of District College have subscriptions to English and French newspapers. Some students have subscribed only to English, some have subscribed only to French, and some have subscribed to both newspapers.\n",
    "\n",
    "You are given two sets of student roll numbers. One set has subscribed to the English newspaper, one set has subscribed to the French newspaper. Your task is to find the total number of students who have subscribed to both newspapers."
   ]
  },
  {
   "cell_type": "code",
   "execution_count": 64,
   "id": "f4d91b32",
   "metadata": {},
   "outputs": [
    {
     "name": "stdout",
     "output_type": "stream",
     "text": [
      "9\n",
      "1 2 3 4 5 6 7 8 9\n",
      "9\n",
      "10 1 2 3 11 21 55 6 8\n",
      "5\n"
     ]
    }
   ],
   "source": [
    "engpaper = int(input())\n",
    "engpaper_rollno = set(input().split())\n",
    "frenchpaper = int(input())\n",
    "frenchpaper_rollno = set(input().split())\n",
    "totalsubscription = len(engpaper_rollno.intersection(frenchpaper_rollno))\n",
    "print(totalsubscription)"
   ]
  },
  {
   "cell_type": "code",
   "execution_count": null,
   "id": "6e8f5cad",
   "metadata": {},
   "outputs": [],
   "source": []
  },
  {
   "cell_type": "markdown",
   "id": "235b28f4",
   "metadata": {},
   "source": [
    "## Set .difference() Operation\n",
    "\n",
    "### Task\n",
    "\n",
    "Students of District College have a subscription to English and French newspapers. Some students have subscribed to only the English newspaper, some have subscribed to only the French newspaper, and some have subscribed to both newspapers.\n",
    "\n",
    "You are given two sets of student roll numbers. One set has subscribed to the English newspaper, and one set has subscribed to the French newspaper. Your task is to find the total number of students who have subscribed to only English newspapers."
   ]
  },
  {
   "cell_type": "code",
   "execution_count": 54,
   "id": "fc4dd82f",
   "metadata": {},
   "outputs": [
    {
     "name": "stdout",
     "output_type": "stream",
     "text": [
      "9\n",
      "1 2 3 4 5 6 7 8 9\n",
      "9 \n",
      "10 1 2 3 11 21 55 6 8\n",
      "4\n"
     ]
    }
   ],
   "source": [
    "engpaper = int(input())\n",
    "engpaper_rollno = set(input().split())\n",
    "frenchpaper = int(input())\n",
    "frenchpaper_rollno = set(input().split())\n",
    "subscription_engpaper = len(engpaper_rollno.difference(frenchpaper_rollno))\n",
    "print(subscription_engpaper)"
   ]
  },
  {
   "cell_type": "code",
   "execution_count": null,
   "id": "f442fb83",
   "metadata": {},
   "outputs": [],
   "source": []
  },
  {
   "cell_type": "markdown",
   "id": "86f2763a",
   "metadata": {},
   "source": [
    "## Set .symmetric_difference() Operation\n",
    "\n",
    "### Task\n",
    "Students of District College have subscriptions to English and French newspapers. Some students have subscribed to English only, some have subscribed to French only, and some have subscribed to both newspapers.\n",
    "\n",
    "You are given two sets of student roll numbers. One set has subscribed to the English newspaper, and one set has subscribed to the French newspaper. Your task is to find the total number of students who have subscribed to either the English or the French newspaper but not both."
   ]
  },
  {
   "cell_type": "code",
   "execution_count": 55,
   "id": "ab5c8f5e",
   "metadata": {},
   "outputs": [
    {
     "name": "stdout",
     "output_type": "stream",
     "text": [
      "9\n",
      "1 2 3 4 5 6 7 8 9\n",
      "9\n",
      "10 1 2 3 11 21 55 6 8\n",
      "8\n"
     ]
    }
   ],
   "source": [
    "engpaper = int(input())\n",
    "engpaper_rollno = set(input().split())\n",
    "frenchpaper = int(input())\n",
    "frenchpaper_rollno = set(input().split())\n",
    "subscription_eng_or_french = len(engpaper_rollno.symmetric_difference(frenchpaper_rollno))\n",
    "print(subscription_eng_or_french)"
   ]
  },
  {
   "cell_type": "code",
   "execution_count": null,
   "id": "dfae8976",
   "metadata": {},
   "outputs": [],
   "source": []
  },
  {
   "cell_type": "markdown",
   "id": "36b6898d",
   "metadata": {},
   "source": [
    "## Set Mutations\n",
    "\n",
    "### TASK\n",
    "You are given a set A and N number of other sets. These N number of sets have to perform some specific mutation operations on set A.\n",
    "\n",
    "Your task is to execute those operations and print the sum of elements from set A."
   ]
  },
  {
   "cell_type": "code",
   "execution_count": 56,
   "id": "f4921208",
   "metadata": {},
   "outputs": [
    {
     "name": "stdout",
     "output_type": "stream",
     "text": [
      "16\n",
      "1 2 3 4 5 6 7 8 9 10 11 12 13 14 24 52\n",
      "4\n",
      "intersection_update 10\n",
      "2 3 5 6 8 9 1 4 7 11\n",
      "update 2\n",
      "55 66\n",
      "symmetric_difference_update 5\n",
      "22 7 35 62 58\n",
      "difference_update 7\n",
      "11 22 35 55 58 62 66\n",
      "38\n"
     ]
    }
   ],
   "source": [
    "n = int(input())\n",
    "a = set(map(int, input().split()))\n",
    "N = int(input())\n",
    "\n",
    "for i in range(N):\n",
    "    query = input().split()\n",
    "    s = set(map(int,input().split()))\n",
    "    \n",
    "    if (query[0] == \"update\"):\n",
    "        a |= s\n",
    "    elif (query[0] == \"intersection_update\"):\n",
    "        a &= s\n",
    "    elif (query[0] == \"difference_update\"):\n",
    "        a -= s\n",
    "    elif (query[0] == 'symmetric_difference_update'):\n",
    "        a ^= s\n",
    "        \n",
    "print(sum(a))"
   ]
  },
  {
   "cell_type": "code",
   "execution_count": null,
   "id": "f5f221e3",
   "metadata": {},
   "outputs": [],
   "source": []
  },
  {
   "cell_type": "markdown",
   "id": "d16e6007",
   "metadata": {},
   "source": [
    "## The Captain's Room\n",
    "\n",
    "Mr. Anant Asankhya is the manager at the INFINITE hotel. The hotel has an infinite amount of rooms.\n",
    "\n",
    "One fine day, a finite number of tourists come to stay at the hotel.\n",
    "The tourists consist of:\n",
    "→ A Captain.\n",
    "→ An unknown group of families consisting of K members per group where K ≠ 1.\n",
    "\n",
    "The Captain was given a separate room, and the rest were given one room per group.\n",
    "\n",
    "Mr. Anant has an unordered list of randomly arranged room entries. The list consists of the room numbers for all of the tourists. The room numbers will appear K times per group except for the Captain's room.\n",
    "\n",
    "Mr. Anant needs you to help him find the Captain's room number.\n",
    "The total number of tourists or the total number of groups of families is not known to you.\n",
    "You only know the value of K and the room number list."
   ]
  },
  {
   "cell_type": "code",
   "execution_count": 57,
   "id": "16bf0976",
   "metadata": {},
   "outputs": [
    {
     "name": "stdout",
     "output_type": "stream",
     "text": [
      "5\n",
      "1 2 3 6 5 4 4 2 5 3 6 1 6 5 3 2 4 1 2 5 1 4 3 6 8 4 3 1 5 6 2 \n",
      "8\n"
     ]
    }
   ],
   "source": [
    "k = int(input())\n",
    "room_number_list = list(map(int,input().split()))\n",
    "captain_room_number = (sum(set(room_number_list))*k - sum(room_number_list)) // (k-1)\n",
    "print(captain_room_number)"
   ]
  },
  {
   "cell_type": "code",
   "execution_count": null,
   "id": "2b6ab391",
   "metadata": {},
   "outputs": [],
   "source": []
  },
  {
   "cell_type": "markdown",
   "id": "86c21d69",
   "metadata": {},
   "source": [
    "## Check Subset\n",
    "\n",
    "You are given two sets, A and B.\n",
    "Your job is to find whether set A is a subset of set B.\n",
    "\n",
    "If set A is subset of set B, print True.\n",
    "If set A is not a subset of set B, print False."
   ]
  },
  {
   "cell_type": "code",
   "execution_count": 59,
   "id": "3c698845",
   "metadata": {},
   "outputs": [
    {
     "name": "stdout",
     "output_type": "stream",
     "text": [
      "3\n",
      "5\n",
      "1 2 3 5 6\n",
      "9\n",
      "9 8 5 6 3 2 1 4 7\n",
      "True\n",
      "1\n",
      "2\n",
      "5\n",
      "3 6 5 4 1\n",
      "False\n",
      "7\n",
      "1 2 3 5 6 8 9\n",
      "3\n",
      "9 8 2\n",
      "False\n"
     ]
    }
   ],
   "source": [
    "n = int(input())\n",
    "for i in range(n):\n",
    "    a = int(input())\n",
    "    A = set(input().split())\n",
    "    \n",
    "    b = int(input())\n",
    "    B = set(input().split())\n",
    "    \n",
    "    print(A.issubset(B))"
   ]
  },
  {
   "cell_type": "code",
   "execution_count": null,
   "id": "b9331461",
   "metadata": {},
   "outputs": [],
   "source": []
  },
  {
   "cell_type": "markdown",
   "id": "b8d29326",
   "metadata": {},
   "source": [
    "## Check Strict Superset\n",
    "\n",
    "You are given a set A and n other sets.\n",
    "Your job is to find whether set A is a strict superset of each of the N sets.\n",
    "\n",
    "Print True, if A is a strict superset of each of the N sets. Otherwise, print False.\n",
    "\n",
    "A strict superset has at least one element that does not exist in its subset."
   ]
  },
  {
   "cell_type": "code",
   "execution_count": 61,
   "id": "996e51ac",
   "metadata": {},
   "outputs": [
    {
     "name": "stdout",
     "output_type": "stream",
     "text": [
      "1 2 3 4 5 6 7 8 9 10 11 12 23 45 84 78\n",
      "2\n",
      "1 2 3 4 5\n",
      "100 11 12\n",
      "False\n"
     ]
    }
   ],
   "source": [
    "s = set(input().split())\n",
    "N = int(input())\n",
    "result = True\n",
    "\n",
    "for i in range(N):\n",
    "    s1 = set(input().split())\n",
    "    if not s1.issubset(s):\n",
    "        result = False\n",
    "    if len(s1) >= len(s):\n",
    "        result = False\n",
    "        \n",
    "print(result)"
   ]
  },
  {
   "cell_type": "code",
   "execution_count": null,
   "id": "a973260a",
   "metadata": {},
   "outputs": [],
   "source": []
  }
 ],
 "metadata": {
  "kernelspec": {
   "display_name": "Python 3",
   "language": "python",
   "name": "python3"
  },
  "language_info": {
   "codemirror_mode": {
    "name": "ipython",
    "version": 3
   },
   "file_extension": ".py",
   "mimetype": "text/x-python",
   "name": "python",
   "nbconvert_exporter": "python",
   "pygments_lexer": "ipython3",
   "version": "3.8.8"
  }
 },
 "nbformat": 4,
 "nbformat_minor": 5
}
